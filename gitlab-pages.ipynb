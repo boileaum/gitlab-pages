{
 "cells": [
  {
   "cell_type": "markdown",
   "metadata": {},
   "source": [
    "<h2 style=\"text-align: center;\" markdown=\"1\">Journées Mathrice</h2>\n",
    "<center>\n",
    "    ![](images/logo_mathrice_small.png)\n",
    "</center>\n",
    "\n",
    "<h3 style=\"text-align: center;\" markdown=\"1\">Montpellier, 27-29 mars 2018</h3>\n",
    "***\n",
    "<h1 style=\"text-align: center;\" markdown=\"0\">Publier sur `math.cnrs.fr`</h1>\n",
    "<h1 style=\"text-align: center;\" markdown=\"0\">avec GitLab Pages</h1>\n",
    "***\n",
    "<h4 style=\"text-align: center;\" markdown=\"0\">*Matthieu Boileau*</h4>\n",
    "***\n",
    "\n",
    "<center>\n",
    "<a rel=\"license\" href=\"http://creativecommons.org/licenses/by-sa/4.0/\"><img alt=\"Licence Creative Commons\" style=\"border-width:0\" src=\"https://i.creativecommons.org/l/by-sa/4.0/88x31.png\"/>\n",
    "</center>"
   ]
  },
  {
   "cell_type": "markdown",
   "metadata": {
    "slideshow": {
     "slide_type": "slide"
    }
   },
   "source": [
    "![](images/stacked_wm_no_bg_small.png)\n",
    "\n",
    "# GitLab Pages\n",
    "\n",
    "À partir de projets hébergés sur <https://plmlab.math.cnrs.fr>, GitLab Pages permet de :\n",
    "\n",
    "- publier un **site web statique**, construit par exemple avec un générateur de site statique,\n",
    "- mettre en ligne des **pdf** d'articles de livres, de cours, d'énoncé d'exercices, etc., construits à partir de sources Tex, par exemple.\n",
    "- mettre en ligne des **diaporamas**, comme celui-ci...\n",
    "\n"
   ]
  },
  {
   "cell_type": "markdown",
   "metadata": {
    "slideshow": {
     "slide_type": "slide"
    }
   },
   "source": [
    "![](images/pages_group_avatar.png)\n",
    "\n",
    "# Du point de vue l'utilisateur"
   ]
  },
  {
   "cell_type": "markdown",
   "metadata": {
    "slideshow": {
     "slide_type": "subslide"
    }
   },
   "source": [
    "## Permet de publier sur une URL en `math.cnrs.fr`\n",
    "\n",
    "Pages permet de publier sur une URL qui contient un nom de projet ou d'équipe.\n",
    "\n",
    "Pour le projet GitLab `projectname` qui appartient à\n",
    "`username` ou `groupname`, l'adresse de publication sera :\n",
    "\n",
    "```\n",
    "https://[username|groupname].pages.math.cnrs.fr/[projectname]\n",
    "```\n",
    "\n",
    "> `projectname` est absent de l'URL s'il vaut `[username|groupname].pages.math.cnrs.fr`"
   ]
  },
  {
   "cell_type": "markdown",
   "metadata": {
    "slideshow": {
     "slide_type": "subslide"
    }
   },
   "source": [
    "## Permet de faire de l'édition collaborative\n",
    "\n",
    "- Utiliser Git et GitLab pour **enregistrer et fusionner** les différentes contributions\n",
    "- Utiliser GitLab Pages pour **reconstruire** le site ou le document en ligne après chaque modification sur le dépôt GitLab"
   ]
  },
  {
   "cell_type": "markdown",
   "metadata": {
    "slideshow": {
     "slide_type": "subslide"
    }
   },
   "source": [
    "## Très facile à mettre en oeuvre\n",
    "\n",
    "En deux temps, trois mouvements :\n",
    "\n",
    "- On enregistre un `gitlab runner` ou on utilise un *runner* partagé\n",
    "- On ajoute un fichier `.gitlab-ci.yml` décrivant le job d'intégration continue"
   ]
  },
  {
   "cell_type": "markdown",
   "metadata": {
    "slideshow": {
     "slide_type": "subslide"
    }
   },
   "source": [
    "# Limitations\n",
    "\n",
    "- on ne peut pas héberger de contenu web dynamique\n",
    "- une taille maximale de contenu publiable (100Mo par défaut, peut être étendu par l'admin)\n",
    "- l'URL de publication contient forcément `.pages.math.cnrs.fr` (si l'admin l'active, on peut [ajouter un nom de domaine personnalisé](https://docs.gitlab.com/ee/user/project/pages/introduction.html#add-a-custom-domain-to-your-pages-website))"
   ]
  },
  {
   "cell_type": "markdown",
   "metadata": {
    "slideshow": {
     "slide_type": "slide"
    }
   },
   "source": [
    "![](images/pages_group_avatar.png)\n",
    "\n",
    "# Du point de vue de l'administrateur"
   ]
  },
  {
   "cell_type": "markdown",
   "metadata": {
    "slideshow": {
     "slide_type": "subslide"
    }
   },
   "source": [
    "## Avantages\n",
    "\n",
    "- aucune intervention nécessaire de la part de l'admin : la publication est automatiquement déclenchée par le job d'intégration continue\n",
    "- on évite de gérer à la main \"un site web => un serveur web (ou un virtualhost)\" : Pages le fait automatiquement !\n",
    "- pas de problème de sécurité lié à du contenu dynamique : l'exécution de code (php ou autre) n'est pas autorisée."
   ]
  },
  {
   "cell_type": "markdown",
   "metadata": {
    "slideshow": {
     "slide_type": "subslide"
    }
   },
   "source": [
    "![](images/gear_small.png)\n",
    "\n",
    "## Configuration\n",
    "\n",
    "Quelques lignes dans le fichier `/etc/gitlab/gitlab.rb` :\n",
    "\n",
    "```ruby\n",
    "################\n",
    "# gitlab pages #\n",
    "################\n",
    "pages_external_url 'https://pages.math.cnrs.fr'\n",
    "\n",
    "pages_nginx['redirect_http_to_https'] = true\n",
    "pages_nginx['ssl_certificate'] = \"/etc/gitlab/ssl/star_pages_math_cnrs_fr.pem\"\n",
    "pages_nginx['ssl_certificate_key'] = \"/etc/gitlab/ssl/star_pages_math_cnrs_fr.key\"\n",
    "```\n",
    "\n",
    "où `star_pages_math_cnrs_fr.[pem|key]` sont les fichiers du certificat wildcard qui est nécessaire pour publier sur `*.pages.math.cnrs.fr`."
   ]
  },
  {
   "cell_type": "markdown",
   "metadata": {
    "slideshow": {
     "slide_type": "subslide"
    }
   },
   "source": [
    "## Précautions\n",
    "\n",
    "- il est très facile passer du contenu privé (projet gitlab) à du contenu public (Pages)\n",
    "- ne publier que la branche master\n",
    "- s'assurer que les utilisateurs ont adhéré à une charte"
   ]
  },
  {
   "cell_type": "markdown",
   "metadata": {
    "slideshow": {
     "slide_type": "subslide"
    }
   },
   "source": [
    "# Démonstration\n",
    "\n",
    "On enregistre un *gitlab runner*"
   ]
  },
  {
   "cell_type": "code",
   "execution_count": 3,
   "metadata": {},
   "outputs": [],
   "source": [
    "export CI_SERVER_URL=\"https://plmlab.math.cnrs.fr\"\n",
    "export RUNNER_NAME=mon_runner\n",
    "export REGISTRATION_TOKEN=bhS4Qt87e-eEfaBthfmD  # Remplacez par la valeur indiquée sur la page de paramètres du runner\n",
    "export REGISTER_NON_INTERACTIVE=true  # nécessaire pour le mode script"
   ]
  },
  {
   "cell_type": "markdown",
   "metadata": {},
   "source": [
    "On installe"
   ]
  },
  {
   "cell_type": "code",
   "execution_count": 5,
   "metadata": {},
   "outputs": [
    {
     "name": "stdout",
     "output_type": "stream",
     "text": [
      "\u001b[0;33mWARNING: Running in user-mode.                    \u001b[0;m \n",
      "\u001b[0;33mWARNING: Use sudo for system-mode:                \u001b[0;m \n",
      "\u001b[0;33mWARNING: $ sudo gitlab-runner...                  \u001b[0;m \n",
      "                                                  \u001b[0;m \n",
      "Registering runner... succeeded                   \u001b[0;m  runner\u001b[0;m=bhS4Qt87\n",
      "Runner registered successfully. Feel free to start it, but if it's running already the config should be automatically reloaded!\u001b[0;m \n"
     ]
    }
   ],
   "source": [
    "gitlab-runner register --executor docker --docker-image boileaum/jupyter"
   ]
  },
  {
   "cell_type": "code",
   "execution_count": null,
   "metadata": {},
   "outputs": [],
   "source": []
  }
 ],
 "metadata": {
  "celltoolbar": "Slideshow",
  "kernelspec": {
   "display_name": "Bash",
   "language": "bash",
   "name": "bash"
  },
  "language_info": {
   "codemirror_mode": "shell",
   "file_extension": ".sh",
   "mimetype": "text/x-sh",
   "name": "bash"
  }
 },
 "nbformat": 4,
 "nbformat_minor": 2
}
