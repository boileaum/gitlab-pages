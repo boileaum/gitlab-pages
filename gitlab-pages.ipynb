{
 "cells": [
  {
   "cell_type": "markdown",
   "metadata": {},
   "source": [
    "\n",
    "<div align=\"center\">\n",
    "<h2 style=\"text-align: center;\" markdown=\"1\">Journées Mathrice</h2>\n",
    "<img alt=\"Mathrice\" style=\"border-width:0\" width=\"15%\" src=\"images/logo_mathrice.png\">\n",
    "<h3 style=\"text-align: center;\" markdown=\"1\">Montpellier, 27-29 mars 2018</h3>\n",
    "</div>                                       \n",
    "<hr>\n",
    "<h1 style=\"text-align: center;\" markdown=\"0\">Publier sur math.cnrs.fr</h1>\n",
    "<h1 style=\"text-align: center;\" markdown=\"0\">avec GitLab Pages</h1>\n",
    "<br>\n",
    "<div align=\"center\">\n",
    "<a rel=\"diaporama\" href=\"http://mboileau.pages.math.cnrs.fr/gitlab-pages/\">Diaporama reveal.js</a> -\n",
    "<a rel=\"html\" href=\"http://mboileau.pages.math.cnrs.fr/gitlab-pages/gitlab-pages.html\">page html</a>\n",
    "</div>                                       \n",
    "<hr>\n",
    "<h4 style=\"text-align: center;\" markdown=\"0\"><em>Matthieu Boileau</em></h4>\n",
    "<h4 style=\"text-align: center;\" markdown=\"0\"><em>IRMA, CNRS, Université de Strasbourg</em></h4>\n",
    "<hr>\n",
    "\n",
    "\n",
    "<div align=\"center\">\n",
    "<a rel=\"license\" href=\"http://creativecommons.org/licenses/by-sa/4.0/\"><img alt=\"Licence Creative Commons\" style=\"border-width:0\" src=\"https://i.creativecommons.org/l/by-sa/4.0/88x31.png\"/></a>\n",
    "</div>"
   ]
  },
  {
   "cell_type": "markdown",
   "metadata": {
    "slideshow": {
     "slide_type": "slide"
    }
   },
   "source": [
    "![](images/stacked_wm_no_bg_small.png)\n",
    "\n",
    "# GitLab Pages\n",
    "\n",
    "À partir de projets hébergés sur <https://plmlab.math.cnrs.fr>, GitLab Pages permet de :\n",
    "\n",
    "- publier un **site web statique**, construit par exemple avec un générateur de site statique,\n",
    "- mettre en ligne des **pdf** d'articles de livres, de cours, d'énoncé d'exercices, etc., construits à partir de sources Tex, par exemple.\n",
    "- mettre en ligne des **diaporamas**, comme celui-ci...\n",
    "\n"
   ]
  },
  {
   "cell_type": "markdown",
   "metadata": {
    "slideshow": {
     "slide_type": "slide"
    }
   },
   "source": [
    "<img alt=\"Settings\" style=\"border-width:0\" width=\"10%\" src=\"images/pages_group_avatar.png\">\n",
    "\n",
    "# Du point de vue l'utilisateur"
   ]
  },
  {
   "cell_type": "markdown",
   "metadata": {
    "slideshow": {
     "slide_type": "subslide"
    }
   },
   "source": [
    "## Permet de publier sur une URL en `math.cnrs.fr`\n",
    "\n",
    "Pages permet de publier sur une URL qui contient un nom de projet ou d'équipe.\n",
    "\n",
    "Pour le projet GitLab `projectname` qui appartient à\n",
    "`username` ou `groupname`, l'adresse de publication sera :\n",
    "\n",
    "```\n",
    "https://[username|groupname].pages.math.cnrs.fr/[projectname]\n",
    "```\n",
    "\n",
    "> `projectname` est absent de l'URL s'il vaut `[username|groupname].pages.math.cnrs.fr`"
   ]
  },
  {
   "cell_type": "markdown",
   "metadata": {
    "slideshow": {
     "slide_type": "subslide"
    }
   },
   "source": [
    "## Permet de faire de l'édition collaborative\n",
    "\n",
    "- Utiliser Git et GitLab pour **enregistrer et fusionner** les différentes contributions\n",
    "- Utiliser GitLab Pages pour **reconstruire** le site ou le document en ligne après chaque modification sur le dépôt GitLab"
   ]
  },
  {
   "cell_type": "markdown",
   "metadata": {
    "slideshow": {
     "slide_type": "subslide"
    }
   },
   "source": [
    "## Très facile à mettre en oeuvre\n",
    "\n",
    "En deux temps, trois mouvements :\n",
    "\n",
    "1. On enregistre un `gitlab runner` ou on utilise un *runner* partagé\n",
    "2. On ajoute un fichier `.gitlab-ci.yml` décrivant le job d'intégration continue"
   ]
  },
  {
   "cell_type": "markdown",
   "metadata": {
    "slideshow": {
     "slide_type": "subslide"
    }
   },
   "source": [
    "# Limitations/parades\n",
    "\n",
    "- on ne peut pas héberger de contenu web dynamique **mais** les générateurs de sites statiques font déjà beaucoup !\n",
    "- une taille maximale de contenu publiable (100Mo par défaut) **mais** peut être étendu par l'admin\n",
    "- l'URL de publication contient forcément `.pages.math.cnrs.fr` **mais** si l'admin l'active, on peut [ajouter un nom de domaine personnalisé](https://docs.gitlab.com/ee/user/project/pages/introduction.html#add-a-custom-domain-to-your-pages-website)."
   ]
  },
  {
   "cell_type": "markdown",
   "metadata": {
    "slideshow": {
     "slide_type": "slide"
    }
   },
   "source": [
    "<img alt=\"Settings\" style=\"border-width:0\" width=\"10%\" src=\"images/pages_group_avatar.png\">\n",
    "\n",
    "# Du point de vue de l'administrateur"
   ]
  },
  {
   "cell_type": "markdown",
   "metadata": {
    "slideshow": {
     "slide_type": "subslide"
    }
   },
   "source": [
    "## Avantages\n",
    "\n",
    "- aucune intervention nécessaire de la part de l'admin : la publication est automatiquement déclenchée par le job d'intégration continue\n",
    "- on évite de gérer à la main \"un site web => un serveur web (ou un virtualhost)\" : Pages le fait automatiquement !\n",
    "- pas de problème de sécurité lié à du contenu dynamique : l'exécution de code (php ou autre) n'est pas autorisée."
   ]
  },
  {
   "cell_type": "markdown",
   "metadata": {
    "slideshow": {
     "slide_type": "subslide"
    }
   },
   "source": [
    "<img alt=\"Settings\" style=\"border-width:0\" width=\"10%\" src=\"images/gear.png\">\n",
    "\n",
    "## Configuration\n",
    "\n",
    "Quelques lignes dans le fichier `/etc/gitlab/gitlab.rb` :\n",
    "\n",
    "```ruby\n",
    "################\n",
    "# gitlab pages #\n",
    "################\n",
    "pages_external_url 'https://pages.math.cnrs.fr'\n",
    "\n",
    "pages_nginx['redirect_http_to_https'] = true\n",
    "pages_nginx['ssl_certificate'] = \"/etc/gitlab/ssl/star_pages_math_cnrs_fr.pem\"\n",
    "pages_nginx['ssl_certificate_key'] = \"/etc/gitlab/ssl/star_pages_math_cnrs_fr.key\"\n",
    "```\n",
    "\n",
    "où `star_pages_math_cnrs_fr.[pem|key]` sont les fichiers du certificat wildcard qui est nécessaire pour publier sur `*.pages.math.cnrs.fr`."
   ]
  },
  {
   "cell_type": "markdown",
   "metadata": {
    "slideshow": {
     "slide_type": "subslide"
    }
   },
   "source": [
    "## Précautions\n",
    "\n",
    "- il est très facile passer du contenu privé (projet gitlab) à du contenu public (Pages)\n",
    "- ne publier que la branche master\n",
    "- s'assurer que les utilisateurs ont adhéré à une charte"
   ]
  },
  {
   "cell_type": "markdown",
   "metadata": {
    "slideshow": {
     "slide_type": "slide"
    }
   },
   "source": [
    "# Démonstration\n",
    "\n",
    "## Etape 1 : enregistrement d'un *gitlab runner*\n",
    "\n",
    "GitLab Pages repose sur le workflow d'intégration continue de GitLab : gitlab-ci.\n",
    "Avec gitlab-ci, les jobs d'intégration continue sont assurés par les *gitlab runners*.\n",
    "\n",
    "Pour plus de souplesse, on enregistre un *gitlab runner* de type `Docker` en suivant [la doc officielle](https://docs.gitlab.com/runner/commands/README.html#gitlab-runner-register).\n",
    "\n",
    "- On récupère le token d'intégration continue du projet sur la page du projet dans \n",
    "\n",
    "```\n",
    "Settings > CI / CD > Runners settings\n",
    "```\n",
    "\n",
    "- On positionne la variable d'environnement correspondante (déjà fait pour les besoins de cette présentation)"
   ]
  },
  {
   "cell_type": "code",
   "execution_count": null,
   "metadata": {},
   "outputs": [],
   "source": [
    "#export REGISTRATION_TOKEN=my-registration-token"
   ]
  },
  {
   "cell_type": "markdown",
   "metadata": {
    "slideshow": {
     "slide_type": "subslide"
    }
   },
   "source": [
    "- On enregistre le runner"
   ]
  },
  {
   "cell_type": "code",
   "execution_count": null,
   "metadata": {},
   "outputs": [],
   "source": [
    "gitlab-runner register --non-interactive \\\n",
    "                       --name gl_runnner_for_$USER \\\n",
    "                       --url \"https://plmlab.math.cnrs.fr\" \\\n",
    "                       --executor docker \\\n",
    "                       --docker-image boileaum/jupyter"
   ]
  },
  {
   "cell_type": "markdown",
   "metadata": {
    "slideshow": {
     "slide_type": "-"
    }
   },
   "source": [
    "`--docker-image boileaum/jupyter` indique que le conteneur Docker qui sera chargé d'exécuter le script d'intégration continue sera instancié à partir de l'image [`boileaum/jupyter`](https://hub.docker.com/r/boileaum/jupyter/)\n",
    "\n",
    "- On vérifie que le *runner* est actif"
   ]
  },
  {
   "cell_type": "code",
   "execution_count": null,
   "metadata": {},
   "outputs": [],
   "source": [
    "gitlab-runner list"
   ]
  },
  {
   "cell_type": "markdown",
   "metadata": {
    "slideshow": {
     "slide_type": "subslide"
    }
   },
   "source": [
    "## Etape 2 : configuration du fichier `gitlab-ci.yml`\n",
    "\n"
   ]
  },
  {
   "cell_type": "code",
   "execution_count": null,
   "metadata": {},
   "outputs": [],
   "source": [
    "cat > .gitlab-ci.yml <<- EOM\n",
    "pages:\n",
    "  script:\n",
    "    - pip install -r requirements.txt\n",
    "    - ./convert.sh\n",
    "    - mv gitlab-pages.slides.html index.html\n",
    "    - mkdir public\n",
    "    - cp index.html gitlab-pages.html gitlab-pages.ipynb public/\n",
    "    - cp -r images public/\n",
    "  only:\n",
    "    - pages\n",
    "  artifacts:\n",
    "    paths:\n",
    "      - public\n",
    "EOM"
   ]
  },
  {
   "cell_type": "markdown",
   "metadata": {},
   "source": [
    "avec :\n",
    "\n",
    "- `pages:` le job gitlab-ci doit obligatoirement porter ce nom\n",
    "- `convert.sh` un script qui convertit le diaporama Reveal.js \n",
    "- `public/` le répertoire dont le contenu sera publié par Pages"
   ]
  },
  {
   "cell_type": "markdown",
   "metadata": {
    "slideshow": {
     "slide_type": "subslide"
    }
   },
   "source": [
    "```yaml\n",
    "  only:\n",
    "    - pages\n",
    "```\n",
    "\n",
    "Ce job ne sera exécuté que pour la branche `pages`.\n",
    "\n",
    "```yaml\n",
    "  artifacts:\n",
    "    paths:\n",
    "      - public\n",
    "```\n",
    "\n",
    "Nécessaire pour que le répertoire soit effectivement publié."
   ]
  },
  {
   "cell_type": "markdown",
   "metadata": {},
   "source": [
    "# Conclusion\n",
    "\n",
    "- GitLab Pages facilite la publication de contenu : sites web, documentation de code, articles, support de cours, d'exposés, etc.\n",
    "- Pages fait partie de la chaîne d'intégration continue de GitLab\n",
    "- gitlab-ci permet de gérer la construction du contenu html à partir de sources\n",
    "- GitLab Pages peut être une façon de collaborer sur un site sans besoin de CMS"
   ]
  },
  {
   "cell_type": "markdown",
   "metadata": {},
   "source": [
    "# Ressources\n",
    "\n",
    "- Documentation officielle très complète\n",
    "- exemples\n",
    "- tutoriels"
   ]
  }
 ],
 "metadata": {
  "celltoolbar": "Slideshow",
  "kernelspec": {
   "display_name": "Bash",
   "language": "bash",
   "name": "bash"
  },
  "language_info": {
   "codemirror_mode": "shell",
   "file_extension": ".sh",
   "mimetype": "text/x-sh",
   "name": "bash"
  }
 },
 "nbformat": 4,
 "nbformat_minor": 2
}
