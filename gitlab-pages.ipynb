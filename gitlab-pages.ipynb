{
 "cells": [
  {
   "cell_type": "markdown",
   "metadata": {},
   "source": [
    "\n",
    "<div align=\"center\">\n",
    "<h2 style=\"text-align: center;\" markdown=\"1\">Journées Mathrice</h2>\n",
    "<img alt=\"Mathrice\" style=\"border-width:0\" width=\"15%\" src=\"images/logo_mathrice.png\">\n",
    "<h3 style=\"text-align: center;\" markdown=\"1\">Montpellier, 27-29 mars 2018</h3>\n",
    "</div>                                       \n",
    "<hr>\n",
    "<h1 style=\"text-align: center;\" markdown=\"0\">Publier sur math.cnrs.fr avec GitLab Pages</h1>\n",
    "<br>\n",
    "<div align=\"center\">\n",
    "<a rel=\"diaporama\" href=\"index.html\">Diaporama</a> -\n",
    "<a rel=\"html\" href=\"gitlab-pages.html\">Page unique</a>\n",
    "</div>                                       \n",
    "<hr>\n",
    "<h4 style=\"text-align: center;\" markdown=\"0\"><em>Matthieu Boileau</em></h4>\n",
    "<h4 style=\"text-align: center;\" markdown=\"0\"><em>IRMA, CNRS, Université de Strasbourg</em></h4>\n",
    "<hr>\n",
    "\n",
    "\n",
    "<div align=\"center\">\n",
    "<a rel=\"license\" href=\"http://creativecommons.org/licenses/by-sa/4.0/\"><img alt=\"Licence Creative Commons\" style=\"border-width:0\" src=\"https://i.creativecommons.org/l/by-sa/4.0/88x31.png\"/></a>\n",
    "</div>"
   ]
  },
  {
   "cell_type": "markdown",
   "metadata": {
    "slideshow": {
     "slide_type": "slide"
    }
   },
   "source": [
    "<img alt=\"Settings\" width=\"15%\" src=\"images/stacked_wm_no_bg.png\">\n",
    "\n",
    "# GitLab Pages\n",
    "\n",
    "À partir de projets hébergés sur <https://plmlab.math.cnrs.fr>, GitLab Pages permet de :\n",
    "\n",
    "- publier un **site web statique**, construit par exemple avec un générateur de site statique,\n",
    "- mettre en ligne des **pdf** d'articles de livres, de cours, d'énoncé d'exercices, etc., construits à partir de sources Tex, par exemple.\n",
    "- mettre en ligne des **diaporamas**, comme celui-ci...\n",
    "\n"
   ]
  },
  {
   "cell_type": "markdown",
   "metadata": {
    "slideshow": {
     "slide_type": "slide"
    }
   },
   "source": [
    "<img alt=\"Settings\" width=\"10%\" src=\"images/pages_group_avatar.png\">\n",
    "\n",
    "# Du point de vue l'utilisateur"
   ]
  },
  {
   "cell_type": "markdown",
   "metadata": {
    "slideshow": {
     "slide_type": "subslide"
    }
   },
   "source": [
    "<img alt=\"Avantages\" width=\"5%\" src=\"images/plus_fin_alpha.png\">\n",
    "\n",
    "\n",
    "## Permet de publier sur une URL en `math.cnrs.fr`\n",
    "\n",
    "Pages permet de publier sur une URL qui contient un nom de projet ou d'équipe.\n",
    "\n",
    "Pour le projet GitLab `projectname` qui appartient à\n",
    "`username` ou `groupname`, l'adresse de publication sera :\n",
    "\n",
    "```\n",
    "https://[username|groupname].pages.math.cnrs.fr/[projectname]\n",
    "```\n",
    "\n",
    "> `projectname` est absent de l'URL s'il vaut `[username|groupname].pages.math.cnrs.fr`\n"
   ]
  },
  {
   "cell_type": "markdown",
   "metadata": {
    "slideshow": {
     "slide_type": "subslide"
    }
   },
   "source": [
    "<img alt=\"Avantages\" width=\"5%\" src=\"images/plus_fin_alpha.png\">\n",
    "\n",
    "## Permet de faire de l'édition collaborative\n",
    "\n",
    "- Utiliser Git et GitLab pour **enregistrer et fusionner** les différentes contributions\n",
    "- Utiliser GitLab Pages pour **reconstruire** le site ou le document en ligne après chaque modification sur le dépôt GitLab"
   ]
  },
  {
   "cell_type": "markdown",
   "metadata": {
    "slideshow": {
     "slide_type": "subslide"
    }
   },
   "source": [
    "<img alt=\"Avantages\" width=\"5%\" src=\"images/plus_fin_alpha.png\">\n",
    "\n",
    "## Très facile à mettre en oeuvre\n",
    "\n",
    "En deux temps, trois mouvements :\n",
    "\n",
    "1. On enregistre un `gitlab runner` ou on utilise un *runner* partagé\n",
    "2. On ajoute un fichier `.gitlab-ci.yml` décrivant le job d'intégration continue"
   ]
  },
  {
   "cell_type": "markdown",
   "metadata": {
    "slideshow": {
     "slide_type": "subslide"
    }
   },
   "source": [
    "# Limitations et solutions\n",
    "\n",
    "- **pas de contenu web dynamique** mais les générateurs de sites statiques font déjà beaucoup !\n",
    "- une **taille maximale** de contenu publiable (100Mo par défaut) mais peut être étendu par l'admin\n",
    "- **l'URL de publication** contient forcément `.pages.math.cnrs.fr` mais si l'admin l'active, on peut [ajouter un nom de domaine personnalisé](https://docs.gitlab.com/ee/user/project/pages/introduction.html#add-a-custom-domain-to-your-pages-website)."
   ]
  },
  {
   "cell_type": "markdown",
   "metadata": {
    "slideshow": {
     "slide_type": "slide"
    }
   },
   "source": [
    "<img alt=\"Settings\" width=\"10%\" src=\"images/pages_group_avatar.png\">\n",
    "\n",
    "# Du point de vue de l'administrateur"
   ]
  },
  {
   "cell_type": "markdown",
   "metadata": {
    "slideshow": {
     "slide_type": "subslide"
    }
   },
   "source": [
    "<img alt=\"Avantages\" width=\"8%\" src=\"images/plus_fin_alpha.png\">\n",
    "\n",
    "##  Avantages\n",
    "\n",
    "- aucune intervention nécessaire de la part de l'admin : la publication est automatiquement déclenchée par le job d'intégration continue\n",
    "- on évite de gérer à la main \"un site web => un serveur web (ou un virtualhost)\" : Pages le fait automatiquement !\n",
    "- pas de problème de sécurité lié à du contenu dynamique : l'exécution de code (php ou autre) n'est pas autorisée."
   ]
  },
  {
   "cell_type": "markdown",
   "metadata": {
    "slideshow": {
     "slide_type": "subslide"
    }
   },
   "source": [
    "<img alt=\"Settings\" width=\"8%\" src=\"images/gear.png\">\n",
    "\n",
    "## Configuration\n",
    "\n",
    "Quelques lignes dans le fichier `/etc/gitlab/gitlab.rb` :\n",
    "\n",
    "```ruby\n",
    "################\n",
    "# gitlab pages #\n",
    "################\n",
    "pages_external_url 'https://pages.math.cnrs.fr'\n",
    "\n",
    "pages_nginx['redirect_http_to_https'] = true\n",
    "pages_nginx['ssl_certificate'] = \"/etc/gitlab/ssl/star_pages_math_cnrs_fr.pem\"\n",
    "pages_nginx['ssl_certificate_key'] = \"/etc/gitlab/ssl/star_pages_math_cnrs_fr.key\"\n",
    "```\n",
    "\n",
    "- les 3 dernières lignes sont nécessaires pour avoir un site en https\n",
    "- `star_pages_math_cnrs_fr.[pem|key]` sont les fichiers du certificat wildcard qui est nécessaire pour publier sur `*.pages.math.cnrs.fr`.£"
   ]
  },
  {
   "cell_type": "markdown",
   "metadata": {
    "slideshow": {
     "slide_type": "subslide"
    }
   },
   "source": [
    "## Suivi de l'utilisation de Pages\n",
    "\n",
    "La version actuelle de GitLab ne fournit pas d'outil pour monitorer l'utilisation de Pages. Voici un [script](https://gist.github.com/boileaum/e28486a4a2f0e0f520fa35a410f96400) permettant de lister les contenus publiés avec Pages :\n",
    "\n",
    "```bash\n",
    "sudo gitlab-admin/gitlab_pages.py \n",
    "[sudo] password for xxx: \n",
    "Exploring default Pages path: /var/opt/gitlab/gitlab-rails/shared/pages/ \n",
    "tonus:\n",
    "\thttps://tonus.pages.math.unistra.fr/schnaps/kirsch (9,5M)\n",
    "\thttps://tonus.pages.math.unistra.fr/schnaps/schnaps (119M)\n",
    "formation-python:\n",
    "\thttps://formation-python.pages.math.unistra.fr (5,2M)\n",
    "[...]\n",
    "formation-info:\n",
    "\thttps://formation-info.pages.math.unistra.fr/gitlab-pages (32K)\n",
    "\thttps://formation-info.pages.math.unistra.fr/expose-git (1,3M)\n",
    "\thttps://formation-info.pages.math.unistra.fr/atelier-gitlab --> WARNING: directory is empty\n",
    "\thttps://formation-info.pages.math.unistra.fr/expose-git-example/methodus-inveniendi-addII.pdf (2,3M)\n",
    "boileau:\n",
    "\thttps://boileau.pages.math.unistra.fr/tp-gitlab (4,0M)\n",
    "\thttps://boileau.pages.math.unistra.fr/website (68K)\n",
    "\thttps://boileau.pages.math.unistra.fr/relax (4,1M)\n",
    "\n",
    "```"
   ]
  },
  {
   "cell_type": "markdown",
   "metadata": {
    "slideshow": {
     "slide_type": "subslide"
    }
   },
   "source": [
    "<img alt=\"Attention\" width=\"10%\" src=\"images/warning_alpha.png\">\n",
    "\n",
    "## Précautions\n",
    "\n",
    "- il est très facile passer du contenu privé (projet gitlab) à du contenu public (Pages)\n",
    "- privilégier la publication d'une branche identifiée (généralement `master`)\n",
    "- s'assurer que les utilisateurs adhèrent à une charte"
   ]
  },
  {
   "cell_type": "markdown",
   "metadata": {
    "slideshow": {
     "slide_type": "slide"
    }
   },
   "source": [
    "\n",
    "<img alt=\"Play\" width=\"20%\" src=\"images/show.png\">\n",
    "\n",
    "\n",
    "# Démonstration\n",
    "\n",
    "- **Objectif :** mettre en ligne la présentation actuelle\n",
    "- Contrairement à la plupart des démos disponibles en ligne, **on part de zéro.**\n"
   ]
  },
  {
   "cell_type": "markdown",
   "metadata": {
    "slideshow": {
     "slide_type": "subslide"
    }
   },
   "source": [
    "## Etape 1 : création d'un projet sur `plmlab.math.cnrs.fr`\n",
    "\n",
    "\n",
    "\n",
    "- Sur <https://plmlab.math.cnrs.fr/projects/new>, on crée le projet `gitlab-pages-demo`\n",
    "- On réiniatilise le dépôt local actuel pour la démo"
   ]
  },
  {
   "cell_type": "code",
   "execution_count": null,
   "metadata": {},
   "outputs": [],
   "source": [
    "export USERNAME=mboileau  # Remplacez par le vôtre\n",
    "./reset.sh"
   ]
  },
  {
   "cell_type": "markdown",
   "metadata": {
    "slideshow": {
     "slide_type": "subslide"
    }
   },
   "source": [
    "- Dans le dépôt local existant, on ajoute le remote `demo` :"
   ]
  },
  {
   "cell_type": "code",
   "execution_count": null,
   "metadata": {},
   "outputs": [],
   "source": [
    "git remote add demo git@plmlab.math.cnrs.fr:$USERNAME/gitlab-pages-demo.git"
   ]
  },
  {
   "cell_type": "markdown",
   "metadata": {
    "slideshow": {
     "slide_type": "subslide"
    }
   },
   "source": [
    "- On pousse le dépôt git actuel vers ce nouveau remote :"
   ]
  },
  {
   "cell_type": "code",
   "execution_count": null,
   "metadata": {},
   "outputs": [],
   "source": [
    "git push demo"
   ]
  },
  {
   "cell_type": "markdown",
   "metadata": {},
   "source": [
    "- On bascule sur une branche de dev :"
   ]
  },
  {
   "cell_type": "code",
   "execution_count": null,
   "metadata": {},
   "outputs": [],
   "source": [
    "git checkout -b dev"
   ]
  },
  {
   "cell_type": "markdown",
   "metadata": {
    "slideshow": {
     "slide_type": "subslide"
    }
   },
   "source": [
    "## Etape 2 : identification d'un *gitlab runner*\n",
    "\n",
    "- GitLab Pages repose sur le workflow d'intégration continue de GitLab : gitlab-ci\n",
    "- Avec gitlab-ci, les jobs d'intégration continue sont assurés par les *gitlab runners*\n",
    "- Pour utiliser un *runner* spécifique, cf. Annexe\n",
    "- L'instance `plmlab.math.cnrs.fr` propose des ***runners*** **partagés**\n",
    "- On explore les *runners disponibles* sur la page du projet dans la [page dédiée aux *runners*](https://plmlab.math.cnrs.fr/mboileau/gitlab-pages-demo/settings/ci_cd) :\n",
    "\n",
    "```\n",
    "CI / CD > Runners settings\n",
    "```\n",
    "\n",
    "- On choisit le *runner* partagé identifié par le tag `dind` pour [*Docker in Docker*]()."
   ]
  },
  {
   "cell_type": "markdown",
   "metadata": {
    "slideshow": {
     "slide_type": "subslide"
    }
   },
   "source": [
    "## Etape 3 : configuration du fichier `gitlab-ci.yml`\n",
    "\n",
    "Avec GitLab-CI, toute l'intégration continue est décrite par un fichier unique `.gitlab-ci.yml` qui doit être présent dans la racine du projet :"
   ]
  },
  {
   "cell_type": "code",
   "execution_count": null,
   "metadata": {},
   "outputs": [],
   "source": [
    "cat > .gitlab-ci.yml <<- EOM\n",
    "image: boileaum/jupyter\n",
    "\n",
    "pages:\n",
    "  script:\n",
    "    - ./build.sh\n",
    "  tags:\n",
    "    - dind\n",
    "  only:\n",
    "    - master\n",
    "  artifacts:\n",
    "    paths:\n",
    "      - public\n",
    "EOM"
   ]
  },
  {
   "cell_type": "markdown",
   "metadata": {
    "slideshow": {
     "slide_type": "subslide"
    }
   },
   "source": [
    "avec :\n",
    "\n",
    "- `image: boileaum/jupyter` l'image [`boileaum/jupyter`](https://hub.docker.com/r/boileaum/jupyter/) du conteneur Docker chargé d'exécuter le script d'intégration continue \n",
    "- `pages:` le job gitlab-ci doit obligatoirement porter ce nom\n",
    "- `build.sh` un script qui convertit ce notebook Jupyter en diaporama Reveal.js\n",
    "- `public/` le répertoire dont le contenu sera publié par Pages"
   ]
  },
  {
   "cell_type": "markdown",
   "metadata": {
    "slideshow": {
     "slide_type": "subslide"
    }
   },
   "source": [
    "```yaml\n",
    "  only:\n",
    "    - master\n",
    "```\n",
    "Ce job ne sera exécuté que pour la branche `master`.\n",
    "\n",
    "```yaml\n",
    "  tags:\n",
    "    - dind\n",
    "```\n",
    "Avec le tag `dind`, on cible le *runner* partagé.\n",
    "\n",
    "```yaml\n",
    "  artifacts:\n",
    "    paths:\n",
    "      - public\n",
    "```\n",
    "\n",
    "Nécessaire pour que le répertoire soit effectivement publié."
   ]
  },
  {
   "cell_type": "markdown",
   "metadata": {
    "slideshow": {
     "slide_type": "subslide"
    }
   },
   "source": [
    "- On enregistre dans git"
   ]
  },
  {
   "cell_type": "code",
   "execution_count": null,
   "metadata": {},
   "outputs": [],
   "source": [
    "git add .gitlab-ci.yml gitlab-pages.ipynb\n",
    "git commit -m \"Add .gitlab-ci.yml to trigger GitLab Pages\""
   ]
  },
  {
   "cell_type": "markdown",
   "metadata": {
    "slideshow": {
     "slide_type": "subslide"
    }
   },
   "source": [
    "## Etape 4 : on pousse vers le remote"
   ]
  },
  {
   "cell_type": "code",
   "execution_count": null,
   "metadata": {},
   "outputs": [],
   "source": [
    "git push -u demo"
   ]
  },
  {
   "cell_type": "markdown",
   "metadata": {},
   "source": [
    "> Cette action ne déclenche pas la chaîne d'intégration continue car cette dernière ne concerne que la branche `master`."
   ]
  },
  {
   "cell_type": "markdown",
   "metadata": {
    "slideshow": {
     "slide_type": "subslide"
    }
   },
   "source": [
    "- On ouvre le lien affiché dans le retour console pour ouvrir une *merge request* sur GitLab\n",
    "- On fusionne\n",
    "- On surveille l'exécution du job d'intégration continue dans GitLab :\n",
    "```\n",
    "CI/CD > Pipelines\n",
    "```\n",
    "- Une fois le job CI terminé, on va dans la rubrique Pages du projet pour récupérer l'URL de publication :\n",
    "```\n",
    "Settings > Pages\n",
    "```\n",
    "Elle vaut ici <http://mboileau.pages.math.cnrs.fr/gitlab-pages-demo>"
   ]
  },
  {
   "cell_type": "markdown",
   "metadata": {
    "slideshow": {
     "slide_type": "subslide"
    }
   },
   "source": [
    "## Publication vers une adresse courte\n",
    "\n",
    "- On aurait pu publier sur <http://mboileau.pages.math.cnrs.fr> en renommant simplement notre projet :\n",
    "```\n",
    "mboileau.pages.math.cnrs.fr\n",
    "```\n",
    "- Autre solution : créer le groupe GitLAb `demo` (par exemple) et y déplacer le projet en le renommant :\n",
    "```\n",
    "demo.pages.math.cnrs.fr\n",
    "```\n",
    "afin de le publier sur <http://demo.pages.math.cnrs.fr>."
   ]
  },
  {
   "cell_type": "markdown",
   "metadata": {
    "slideshow": {
     "slide_type": "slide"
    }
   },
   "source": [
    "# Conclusion\n",
    "\n",
    "- GitLab Pages facilite la publication de contenu : sites web, documentation de code, articles, support de cours, d'exposés, etc., le tout sur une URL institutionnelle.\n",
    "- Pages fait partie intégrante de la chaîne d'intégration continue de GitLab\n",
    "- gitlab-ci permet de gérer la construction du contenu html à partir de sources et de bénéficier du workflow GitLab\n",
    "- Combiner à générateur de site statique, GitLab Pages peut être une façon de collaborer sur un site en se passant d'un CMS."
   ]
  },
  {
   "cell_type": "markdown",
   "metadata": {
    "slideshow": {
     "slide_type": "subslide"
    }
   },
   "source": [
    "# Ressources\n",
    "\n",
    "- [Documentation officielle](https://docs.gitlab.com/ce/user/project/pages/) très complète\n",
    "- De nombreux [exemples](https://gitlab.com/pages) pour démarrer\n",
    "- Un [tutoriel vidéo](https://www.youtube.com/watch?v=TWqh9MtT4Bg) qui présente l'essentiel en 3min40."
   ]
  },
  {
   "cell_type": "markdown",
   "metadata": {
    "slideshow": {
     "slide_type": "slide"
    }
   },
   "source": [
    "## Annexe : enregistrement d'un *gitlab runner*\n",
    "\n",
    "GitLab Pages repose sur le workflow d'intégration continue de GitLab : gitlab-ci.\n",
    "Avec gitlab-ci, les jobs d'intégration continue sont assurés par les *gitlab runners*.\n",
    "\n",
    "Pour plus de souplesse, on enregistre un *gitlab runner* de type `Docker` en suivant [la doc officielle](https://docs.gitlab.com/runner/commands/README.html#gitlab-runner-register).\n",
    "\n",
    "- On récupère le token d'intégration continue du projet sur la page du projet dans \n",
    "\n",
    "```\n",
    "Settings > CI / CD > Runners settings\n",
    "```\n",
    "\n",
    "- On positionne la variable d'environnement correspondante"
   ]
  },
  {
   "cell_type": "code",
   "execution_count": null,
   "metadata": {},
   "outputs": [],
   "source": [
    "#export REGISTRATION_TOKEN=my-registration-token"
   ]
  },
  {
   "cell_type": "markdown",
   "metadata": {
    "slideshow": {
     "slide_type": "subslide"
    }
   },
   "source": [
    "- On enregistre le runner"
   ]
  },
  {
   "cell_type": "code",
   "execution_count": null,
   "metadata": {},
   "outputs": [],
   "source": [
    "gitlab-runner register --non-interactive \\\n",
    "                       --name gl_runnner_for_$USER \\\n",
    "                       --url \"https://plmlab.math.cnrs.fr\" \\\n",
    "                       --executor docker \\\n",
    "                       --docker-image boileaum/jupyter \\\n",
    "                       --tag-list docker"
   ]
  },
  {
   "cell_type": "markdown",
   "metadata": {
    "slideshow": {
     "slide_type": "-"
    }
   },
   "source": [
    "- `--docker-image boileaum/jupyter` : le conteneur Docker chargé d'exécuter le script d'intégration continue sera basé sur l'image [`boileaum/jupyter`](https://hub.docker.com/r/boileaum/jupyter/)\n",
    "- `--tag-list docker` : pour solliciter ce runner, il faudra donc que le job CI porte le tag `docker`\n",
    "\n",
    "On vérifie que le *runner* est actif"
   ]
  },
  {
   "cell_type": "code",
   "execution_count": null,
   "metadata": {},
   "outputs": [],
   "source": [
    "gitlab-runner list"
   ]
  }
 ],
 "metadata": {
  "celltoolbar": "Slideshow",
  "kernelspec": {
   "display_name": "Bash",
   "language": "bash",
   "name": "bash"
  },
  "language_info": {
   "codemirror_mode": "shell",
   "file_extension": ".sh",
   "mimetype": "text/x-sh",
   "name": "bash"
  }
 },
 "nbformat": 4,
 "nbformat_minor": 2
}
